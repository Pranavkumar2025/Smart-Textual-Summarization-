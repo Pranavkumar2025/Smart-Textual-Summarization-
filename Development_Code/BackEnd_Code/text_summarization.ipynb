{
 "cells": [
  {
   "cell_type": "markdown",
   "id": "e91dc016",
   "metadata": {},
   "source": [
    "# Data Collection"
   ]
  },
  {
   "cell_type": "code",
   "execution_count": 5,
   "id": "8478ef89",
   "metadata": {},
   "outputs": [
    {
     "name": "stdout",
     "output_type": "stream",
     "text": [
      "{\n",
      "    \"status\": \"ok\",\n",
      "    \"totalResults\": 7,\n",
      "    \"articles\": [\n",
      "        {\n",
      "            \"source\": {\n",
      "                \"id\": \"the-wall-street-journal\",\n",
      "                \"name\": \"The Wall Street Journal\"\n",
      "            },\n",
      "            \"author\": \"Jacob Gallagher\",\n",
      "            \"title\": \"It\\u2019s Not a Sneaker. It\\u2019s Not a Loafer. It\\u2019s a \\u2018Snoafer.\\u2019\",\n",
      "            \"description\": \"New Balance\\u2019s 1906L isn\\u2019t coming out until August, but it\\u2019s already been memed into oblivion\",\n",
      "            \"url\": \"https://www.wsj.com/style/fashion/new-balance-1906l-loafer-sneaker-5fc95d0a\",\n",
      "            \"urlToImage\": \"https://images.wsj.net/im-952236/social\",\n",
      "            \"publishedAt\": \"2024-04-24T13:43:26Z\",\n",
      "            \"content\": \"Its the footwear equivalent of a spork. And no one knows what to make of it.\\u00a0\\r\\nNew Balances latest frankenshoe, the 1906L, is trapped between a sneaker and a loafer. It has grayed-out mesh paneling a\\u2026 [+290 chars]\"\n",
      "        },\n",
      "        {\n",
      "            \"source\": {\n",
      "                \"id\": \"the-wall-street-journal\",\n",
      "                \"name\": \"The Wall Street Journal\"\n",
      "            },\n",
      "            \"author\": null,\n",
      "            \"title\": \"Caitlin Clark's Nike Deal Worth $28M Over Eight Years\",\n",
      "            \"description\": \"Caitlin Clark's new deal with Nike is worth up to $28 million over eight years, sources tell the Wall Street Journal. \\nNike's original deal with Clark was signed in 2022 and was set to expire at the end of the 23-24 college basketball season. \\nEven back in Fe\\u2026\",\n",
      "            \"url\": \"https://www.wsj.com/sports/basketball/caitlin-clark-nike-deal-415ee8ec?st=3od34xn2kxytj9s\",\n",
      "            \"urlToImage\": \"https://basketball.realgm.com/images/nba/4.2/wiretap/photos/2006/Clark_Caitlin_ia_230403.jpg\",\n",
      "            \"publishedAt\": \"2024-04-21T02:14:57Z\",\n",
      "            \"content\": \"Caitlin Clark's new deal with Nike is worth up to $28 million over eight years, sources tell the Wall Street Journal.\\u00a0\\r\\nNike's original deal with Clark was signed in 2022 and was set to expire at the\\u2026 [+734 chars]\"\n",
      "        },\n",
      "        {\n",
      "            \"source\": {\n",
      "                \"id\": \"the-wall-street-journal\",\n",
      "                \"name\": \"The Wall Street Journal\"\n",
      "            },\n",
      "            \"author\": \"Carol Ryan\",\n",
      "            \"title\": \"America\\u2019s Cigarette Market Is Up for Grabs\",\n",
      "            \"description\": \"Philip Morris will soon be able to sell its most successful smoke-free product in the U.S., setting up a battle with its former parent company Altria.\",\n",
      "            \"url\": \"https://www.wsj.com/business/retail/americas-cigarette-market-is-up-for-grabs-897674af\",\n",
      "            \"urlToImage\": \"https://s.yimg.com/ny/api/res/1.2/UQfgrLkJmiagvz9alqIkQg--/YXBwaWQ9aGlnaGxhbmRlcjt3PTEyMDA7aD02MDA-/https://media.zenfs.com/en/the_wall_street_journal_hosted_996/3e5e63d02711252f3c500e182ba6e1cf\",\n",
      "            \"publishedAt\": \"2024-04-19T23:28:24Z\",\n",
      "            \"content\": \"Americas original Marlboro Man faces a fresh competitor, who also happens to be a Marlboro Man. The showdown between them will reshape the U.S. tobacco market.\\r\\nMost Read from The Wall Street Journal\\u2026 [+5145 chars]\"\n",
      "        },\n",
      "        {\n",
      "            \"source\": {\n",
      "                \"id\": \"the-wall-street-journal\",\n",
      "                \"name\": \"The Wall Street Journal\"\n",
      "            },\n",
      "            \"author\": \"Sarah Nassauer\",\n",
      "            \"title\": \"A Day in the Life of a Walmart Manager Who Makes $240,000 a Year\",\n",
      "            \"description\": \"Nichole Hart walks 20,000 steps as she searches for super glue, encounters a disappointed Snoop Dogg fan and juggles staff; \\u2018The hardest thing is the uncertainty\\u2019\",\n",
      "            \"url\": \"https://www.wsj.com/business/retail/a-day-in-the-life-of-a-walmart-manager-who-makes-240-000-a-year-3248037f\",\n",
      "            \"urlToImage\": \"https://images.wsj.net/im-948790/social\",\n",
      "            \"publishedAt\": \"2024-04-14T11:15:37Z\",\n",
      "            \"content\": \"BELLMEAD, TEXASAs night fades to day on a recent morning, Nichole Hart walks briskly into the Walmart store she manages here, just off the freeway a few miles north of Waco.\\u00a0\\r\\nHer overnight manager, \\u2026 [+140 chars]\"\n",
      "        },\n",
      "        {\n",
      "            \"source\": {\n",
      "                \"id\": \"the-wall-street-journal\",\n",
      "                \"name\": \"The Wall Street Journal\"\n",
      "            },\n",
      "            \"author\": \"John Gruber\",\n",
      "            \"title\": \"Google Expands in-House Chip Efforts for AI Data Centers\",\n",
      "            \"description\": null,\n",
      "            \"url\": \"https://www.wsj.com/tech/google-expands-in-house-chip-efforts-in-costly-ai-battle-3121c852\",\n",
      "            \"urlToImage\": null,\n",
      "            \"publishedAt\": \"2024-04-10T01:05:14Z\",\n",
      "            \"content\": \"Miles Kruppa and Asa Fitch, reporting for The Wall Street Journal (News+):\\n\\n\\n Google is making more of its own semiconductors, preparing a new \\nchip that can handle everything from YouTube advertisin\\u2026 [+1017 chars]\"\n",
      "        },\n",
      "        {\n",
      "            \"source\": {\n",
      "                \"id\": \"the-wall-street-journal\",\n",
      "                \"name\": \"The Wall Street Journal\"\n",
      "            },\n",
      "            \"author\": \"Robyn A. Friedman\",\n",
      "            \"title\": \"The Couples Trading Restless Nights for Separate Bedrooms\",\n",
      "            \"description\": \"Many couples today are opting for a \\u201csleep divorce\\u201d\\u00a0instead of following the typical marital path of sharing a bed\",\n",
      "            \"url\": \"https://www.wsj.com/story/the-couples-trading-restless-nights-for-separate-bedrooms-2ab11e5a\",\n",
      "            \"urlToImage\": \"https://images.wsj.net/im-943654/social\",\n",
      "            \"publishedAt\": \"2024-04-09T01:26:45Z\",\n",
      "            \"content\": \"Amy Boland, 51, and her wife, Beth Berila, 53, have also opted to sleep separately on most nights in the classic American Foursquare home they share in Minneapolis, which Boland purchased in March 20\\u2026 [+58 chars]\"\n",
      "        },\n",
      "        {\n",
      "            \"source\": {\n",
      "                \"id\": \"the-wall-street-journal\",\n",
      "                \"name\": \"The Wall Street Journal\"\n",
      "            },\n",
      "            \"author\": \"John Gruber\",\n",
      "            \"title\": \"Evan Gershkovich\\u2019s Stolen Year in a Russian Jail\",\n",
      "            \"description\": null,\n",
      "            \"url\": \"https://www.wsj.com/world/russia/evan-gershkovichs-stolen-year-in-a-russian-jail-61234ec9\",\n",
      "            \"urlToImage\": null,\n",
      "            \"publishedAt\": \"2024-03-29T18:47:50Z\",\n",
      "            \"content\": \"Eliot Brown, writing for The Wall Street Journal:\\n\\n\\n Evan Gershkovich was supposed to be with his friends in Berlin the \\nfirst week of April 2023. \\r\\n\\n\\nThe Wall Street Journal Russia correspondent was\\u2026 [+880 chars]\"\n",
      "        }\n",
      "    ]\n",
      "}\n"
     ]
    }
   ],
   "source": [
    "import requests\n",
    "import json\n",
    "\n",
    "def fetch_news_data(url):\n",
    "    try:\n",
    "        response = requests.get(url)\n",
    "        if response.status_code == 200:\n",
    "            return response.json()\n",
    "        else:\n",
    "            print(f\"Error: {response.status_code}\")\n",
    "            return None\n",
    "    except requests.RequestException as e:\n",
    "        print(f\"Request Error: {e}\")\n",
    "        return None\n",
    "\n",
    "api_url = \"https://newsapi.org/v2/everything?domains=wsj.com&apiKey=97df821f255d46018574e4f2af172df2\"\n",
    "news_data = fetch_news_data(api_url)\n",
    "\n",
    "if news_data:\n",
    "    # Output the data in JSON format\n",
    "    print(json.dumps(news_data,indent=4))"
   ]
  },
  {
   "cell_type": "code",
   "execution_count": 10,
   "id": "654d6381",
   "metadata": {},
   "outputs": [],
   "source": [
    "import pandas as pd\n",
    "temp_df = pd.DataFrame(news_data['articles'])[['title','author','content']]"
   ]
  },
  {
   "cell_type": "code",
   "execution_count": 11,
   "id": "d5adec1a",
   "metadata": {
    "scrolled": false
   },
   "outputs": [
    {
     "data": {
      "text/html": [
       "<div>\n",
       "<style scoped>\n",
       "    .dataframe tbody tr th:only-of-type {\n",
       "        vertical-align: middle;\n",
       "    }\n",
       "\n",
       "    .dataframe tbody tr th {\n",
       "        vertical-align: top;\n",
       "    }\n",
       "\n",
       "    .dataframe thead th {\n",
       "        text-align: right;\n",
       "    }\n",
       "</style>\n",
       "<table border=\"1\" class=\"dataframe\">\n",
       "  <thead>\n",
       "    <tr style=\"text-align: right;\">\n",
       "      <th></th>\n",
       "      <th>title</th>\n",
       "      <th>author</th>\n",
       "      <th>content</th>\n",
       "    </tr>\n",
       "  </thead>\n",
       "  <tbody>\n",
       "    <tr>\n",
       "      <th>0</th>\n",
       "      <td>It’s Not a Sneaker. It’s Not a Loafer. It’s a ...</td>\n",
       "      <td>Jacob Gallagher</td>\n",
       "      <td>Its the footwear equivalent of a spork. And no...</td>\n",
       "    </tr>\n",
       "    <tr>\n",
       "      <th>1</th>\n",
       "      <td>Caitlin Clark's Nike Deal Worth $28M Over Eigh...</td>\n",
       "      <td>None</td>\n",
       "      <td>Caitlin Clark's new deal with Nike is worth up...</td>\n",
       "    </tr>\n",
       "    <tr>\n",
       "      <th>2</th>\n",
       "      <td>America’s Cigarette Market Is Up for Grabs</td>\n",
       "      <td>Carol Ryan</td>\n",
       "      <td>Americas original Marlboro Man faces a fresh c...</td>\n",
       "    </tr>\n",
       "    <tr>\n",
       "      <th>3</th>\n",
       "      <td>A Day in the Life of a Walmart Manager Who Mak...</td>\n",
       "      <td>Sarah Nassauer</td>\n",
       "      <td>BELLMEAD, TEXASAs night fades to day on a rece...</td>\n",
       "    </tr>\n",
       "    <tr>\n",
       "      <th>4</th>\n",
       "      <td>Google Expands in-House Chip Efforts for AI Da...</td>\n",
       "      <td>John Gruber</td>\n",
       "      <td>Miles Kruppa and Asa Fitch, reporting for The ...</td>\n",
       "    </tr>\n",
       "    <tr>\n",
       "      <th>5</th>\n",
       "      <td>The Couples Trading Restless Nights for Separa...</td>\n",
       "      <td>Robyn A. Friedman</td>\n",
       "      <td>Amy Boland, 51, and her wife, Beth Berila, 53,...</td>\n",
       "    </tr>\n",
       "    <tr>\n",
       "      <th>6</th>\n",
       "      <td>Evan Gershkovich’s Stolen Year in a Russian Jail</td>\n",
       "      <td>John Gruber</td>\n",
       "      <td>Eliot Brown, writing for The Wall Street Journ...</td>\n",
       "    </tr>\n",
       "  </tbody>\n",
       "</table>\n",
       "</div>"
      ],
      "text/plain": [
       "                                               title             author   \n",
       "0  It’s Not a Sneaker. It’s Not a Loafer. It’s a ...    Jacob Gallagher  \\\n",
       "1  Caitlin Clark's Nike Deal Worth $28M Over Eigh...               None   \n",
       "2         America’s Cigarette Market Is Up for Grabs         Carol Ryan   \n",
       "3  A Day in the Life of a Walmart Manager Who Mak...     Sarah Nassauer   \n",
       "4  Google Expands in-House Chip Efforts for AI Da...        John Gruber   \n",
       "5  The Couples Trading Restless Nights for Separa...  Robyn A. Friedman   \n",
       "6   Evan Gershkovich’s Stolen Year in a Russian Jail        John Gruber   \n",
       "\n",
       "                                             content  \n",
       "0  Its the footwear equivalent of a spork. And no...  \n",
       "1  Caitlin Clark's new deal with Nike is worth up...  \n",
       "2  Americas original Marlboro Man faces a fresh c...  \n",
       "3  BELLMEAD, TEXASAs night fades to day on a rece...  \n",
       "4  Miles Kruppa and Asa Fitch, reporting for The ...  \n",
       "5  Amy Boland, 51, and her wife, Beth Berila, 53,...  \n",
       "6  Eliot Brown, writing for The Wall Street Journ...  "
      ]
     },
     "execution_count": 11,
     "metadata": {},
     "output_type": "execute_result"
    }
   ],
   "source": [
    "temp_df"
   ]
  },
  {
   "cell_type": "code",
   "execution_count": 12,
   "id": "c88ece06",
   "metadata": {
    "scrolled": true
   },
   "outputs": [
    {
     "name": "stdout",
     "output_type": "stream",
     "text": [
      "0    Its the footwear equivalent of a spork. And no...\n",
      "1    Caitlin Clark's new deal with Nike is worth up...\n",
      "2    Americas original Marlboro Man faces a fresh c...\n",
      "3    BELLMEAD, TEXASAs night fades to day on a rece...\n",
      "4    Miles Kruppa and Asa Fitch, reporting for The ...\n",
      "5    Amy Boland, 51, and her wife, Beth Berila, 53,...\n",
      "6    Eliot Brown, writing for The Wall Street Journ...\n",
      "Name: content, dtype: object\n"
     ]
    }
   ],
   "source": [
    "print(temp_df.content)\n"
   ]
  },
  {
   "cell_type": "code",
   "execution_count": 13,
   "id": "05a13ee5",
   "metadata": {},
   "outputs": [],
   "source": [
    "X = temp_df.iloc[0,2]"
   ]
  },
  {
   "cell_type": "code",
   "execution_count": 14,
   "id": "96ad2159",
   "metadata": {
    "scrolled": true
   },
   "outputs": [
    {
     "name": "stdout",
     "output_type": "stream",
     "text": [
      "Its the footwear equivalent of a spork. And no one knows what to make of it. \r\n",
      "New Balances latest frankenshoe, the 1906L, is trapped between a sneaker and a loafer. It has grayed-out mesh paneling a… [+290 chars]\n"
     ]
    }
   ],
   "source": [
    "print(X)"
   ]
  },
  {
   "cell_type": "markdown",
   "id": "27e00246",
   "metadata": {},
   "source": [
    "# installing Transformer"
   ]
  },
  {
   "cell_type": "code",
   "execution_count": 16,
   "id": "a3bffc8c",
   "metadata": {
    "scrolled": true
   },
   "outputs": [
    {
     "name": "stdout",
     "output_type": "stream",
     "text": [
      "Defaulting to user installation because normal site-packages is not writeable\n",
      "Requirement already satisfied: transformers in c:\\users\\aruni\\appdata\\roaming\\python\\python39\\site-packages (4.40.1)\n",
      "Requirement already satisfied: requests in c:\\programdata\\anaconda3\\lib\\site-packages (from transformers) (2.28.1)\n",
      "Requirement already satisfied: huggingface-hub<1.0,>=0.19.3 in c:\\users\\aruni\\appdata\\roaming\\python\\python39\\site-packages (from transformers) (0.22.2)\n",
      "Requirement already satisfied: regex!=2019.12.17 in c:\\programdata\\anaconda3\\lib\\site-packages (from transformers) (2022.7.9)\n",
      "Requirement already satisfied: tqdm>=4.27 in c:\\programdata\\anaconda3\\lib\\site-packages (from transformers) (4.64.1)\n",
      "Requirement already satisfied: packaging>=20.0 in c:\\programdata\\anaconda3\\lib\\site-packages (from transformers) (21.3)\n",
      "Requirement already satisfied: tokenizers<0.20,>=0.19 in c:\\users\\aruni\\appdata\\roaming\\python\\python39\\site-packages (from transformers) (0.19.1)\n",
      "Requirement already satisfied: pyyaml>=5.1 in c:\\programdata\\anaconda3\\lib\\site-packages (from transformers) (6.0)\n",
      "Requirement already satisfied: filelock in c:\\programdata\\anaconda3\\lib\\site-packages (from transformers) (3.6.0)\n",
      "Requirement already satisfied: safetensors>=0.4.1 in c:\\users\\aruni\\appdata\\roaming\\python\\python39\\site-packages (from transformers) (0.4.3)\n",
      "Requirement already satisfied: numpy>=1.17 in c:\\programdata\\anaconda3\\lib\\site-packages (from transformers) (1.21.5)\n",
      "Requirement already satisfied: fsspec>=2023.5.0 in c:\\users\\aruni\\appdata\\roaming\\python\\python39\\site-packages (from huggingface-hub<1.0,>=0.19.3->transformers) (2024.3.1)\n",
      "Requirement already satisfied: typing-extensions>=3.7.4.3 in c:\\programdata\\anaconda3\\lib\\site-packages (from huggingface-hub<1.0,>=0.19.3->transformers) (4.3.0)\n",
      "Requirement already satisfied: pyparsing!=3.0.5,>=2.0.2 in c:\\programdata\\anaconda3\\lib\\site-packages (from packaging>=20.0->transformers) (3.0.9)\n",
      "Requirement already satisfied: colorama in c:\\programdata\\anaconda3\\lib\\site-packages (from tqdm>=4.27->transformers) (0.4.5)\n",
      "Requirement already satisfied: certifi>=2017.4.17 in c:\\programdata\\anaconda3\\lib\\site-packages (from requests->transformers) (2022.9.14)\n",
      "Requirement already satisfied: idna<4,>=2.5 in c:\\programdata\\anaconda3\\lib\\site-packages (from requests->transformers) (3.3)\n",
      "Requirement already satisfied: urllib3<1.27,>=1.21.1 in c:\\programdata\\anaconda3\\lib\\site-packages (from requests->transformers) (1.26.11)\n",
      "Requirement already satisfied: charset-normalizer<3,>=2 in c:\\programdata\\anaconda3\\lib\\site-packages (from requests->transformers) (2.0.4)\n"
     ]
    }
   ],
   "source": [
    "!pip install transformers"
   ]
  },
  {
   "cell_type": "code",
   "execution_count": 16,
   "id": "4e392a99",
   "metadata": {},
   "outputs": [
    {
     "name": "stderr",
     "output_type": "stream",
     "text": [
      "C:\\Users\\aruni\\AppData\\Local\\Programs\\Python\\Python310\\lib\\site-packages\\tqdm\\auto.py:21: TqdmWarning: IProgress not found. Please update jupyter and ipywidgets. See https://ipywidgets.readthedocs.io/en/stable/user_install.html\n",
      "  from .autonotebook import tqdm as notebook_tqdm\n"
     ]
    },
    {
     "name": "stdout",
     "output_type": "stream",
     "text": [
      "WARNING:tensorflow:From C:\\Users\\aruni\\AppData\\Local\\Programs\\Python\\Python310\\lib\\site-packages\\keras\\src\\losses.py:2976: The name tf.losses.sparse_softmax_cross_entropy is deprecated. Please use tf.compat.v1.losses.sparse_softmax_cross_entropy instead.\n",
      "\n"
     ]
    }
   ],
   "source": [
    "from transformers import pipeline"
   ]
  },
  {
   "cell_type": "markdown",
   "id": "8e099f24",
   "metadata": {},
   "source": [
    "# Load Summarization"
   ]
  },
  {
   "cell_type": "code",
   "execution_count": 17,
   "id": "f15abf94",
   "metadata": {},
   "outputs": [],
   "source": [
    "import tensorflow as tf"
   ]
  },
  {
   "cell_type": "code",
   "execution_count": 18,
   "id": "9bc4d091",
   "metadata": {
    "scrolled": true
   },
   "outputs": [
    {
     "name": "stderr",
     "output_type": "stream",
     "text": [
      "No model was supplied, defaulted to google-t5/t5-small and revision d769bba (https://huggingface.co/google-t5/t5-small).\n",
      "Using a pipeline without specifying a model name and revision in production is not recommended.\n"
     ]
    },
    {
     "name": "stdout",
     "output_type": "stream",
     "text": [
      "WARNING:tensorflow:From C:\\Users\\aruni\\AppData\\Local\\Programs\\Python\\Python310\\lib\\site-packages\\keras\\src\\backend.py:873: The name tf.get_default_graph is deprecated. Please use tf.compat.v1.get_default_graph instead.\n",
      "\n"
     ]
    },
    {
     "name": "stderr",
     "output_type": "stream",
     "text": [
      "All PyTorch model weights were used when initializing TFT5ForConditionalGeneration.\n",
      "\n",
      "All the weights of TFT5ForConditionalGeneration were initialized from the PyTorch model.\n",
      "If your task is similar to the task the model of the checkpoint was trained on, you can already use TFT5ForConditionalGeneration for predictions without further training.\n"
     ]
    }
   ],
   "source": [
    "summarizer = pipeline('summarization')"
   ]
  },
  {
   "cell_type": "markdown",
   "id": "99dc115e",
   "metadata": {},
   "source": [
    "# Summarize Text"
   ]
  },
  {
   "cell_type": "code",
   "execution_count": 20,
   "id": "ab6bcb61",
   "metadata": {},
   "outputs": [
    {
     "name": "stderr",
     "output_type": "stream",
     "text": [
      "Your max_length is set to 150, but your input_length is only 72. Since this is a summarization task, where outputs shorter than the input are typically wanted, you might consider decreasing max_length manually, e.g. summarizer('...', max_length=36)\n"
     ]
    },
    {
     "data": {
      "text/plain": [
       "[{'summary_text': 'the 1906L is trapped between a sneaker and a loafer . it has grayed-out mesh paneling a... [+290 chars]'}]"
      ]
     },
     "execution_count": 20,
     "metadata": {},
     "output_type": "execute_result"
    }
   ],
   "source": [
    "summarizer(X, max_length = 150, min_length = 30,do_sample = False)"
   ]
  },
  {
   "cell_type": "code",
   "execution_count": null,
   "id": "d84ae947",
   "metadata": {},
   "outputs": [],
   "source": []
  }
 ],
 "metadata": {
  "kernelspec": {
   "display_name": "tfkernel",
   "language": "python",
   "name": "tfkernel"
  },
  "language_info": {
   "codemirror_mode": {
    "name": "ipython",
    "version": 3
   },
   "file_extension": ".py",
   "mimetype": "text/x-python",
   "name": "python",
   "nbconvert_exporter": "python",
   "pygments_lexer": "ipython3",
   "version": "3.10.5"
  }
 },
 "nbformat": 4,
 "nbformat_minor": 5
}
